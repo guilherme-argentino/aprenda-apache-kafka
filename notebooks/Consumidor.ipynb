{
 "cells": [
  {
   "cell_type": "code",
   "execution_count": 1,
   "id": "be4494f3-85dd-4e26-a87d-eb176149429b",
   "metadata": {},
   "outputs": [],
   "source": [
    "from kafka import KafkaConsumer as kc\n",
    "consumidor = kc(\"mensagens\", bootstrap_servers=\"kafka:9092\", consumer_timeout_ms=1000, \n",
    "                group_id=\"consumidores\")"
   ]
  },
  {
   "cell_type": "code",
   "execution_count": 3,
   "id": "8a2f6bf7-3ef3-4f09-bfaa-ad1e5a26c862",
   "metadata": {},
   "outputs": [],
   "source": [
    "for mensagem in consumidor:\n",
    "    print(\"Topic: \", mensagem.topic)\n",
    "    print(\"Partição: \", mensagem.partition)\n",
    "    print(\"Chave: \", mensagem.key)\n",
    "    print(\"Mensagem: \", mensagem.value)\n",
    "    print(\"-------------------\")"
   ]
  },
  {
   "cell_type": "code",
   "execution_count": null,
   "id": "fd5a79be-158d-4605-9753-ad40efca54ff",
   "metadata": {},
   "outputs": [],
   "source": []
  }
 ],
 "metadata": {
  "kernelspec": {
   "display_name": "Python 3 (ipykernel)",
   "language": "python",
   "name": "python3"
  },
  "language_info": {
   "codemirror_mode": {
    "name": "ipython",
    "version": 3
   },
   "file_extension": ".py",
   "mimetype": "text/x-python",
   "name": "python",
   "nbconvert_exporter": "python",
   "pygments_lexer": "ipython3",
   "version": "3.10.5"
  }
 },
 "nbformat": 4,
 "nbformat_minor": 5
}
