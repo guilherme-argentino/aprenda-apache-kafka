{
 "cells": [
  {
   "cell_type": "code",
   "execution_count": 1,
   "id": "5dca619f",
   "metadata": {},
   "outputs": [],
   "source": [
    "from kafka import KafkaProducer as kp\n",
    "import random\n",
    "produtor = kp(bootstrap_servers=\"kafka:9092\")"
   ]
  },
  {
   "cell_type": "code",
   "execution_count": 2,
   "id": "5689958e",
   "metadata": {},
   "outputs": [],
   "source": [
    "for x in range(10):\n",
    "    n = random.random()\n",
    "    produtor.send(\"mensagens\", key=b\"Chave %d\" % x, value=b\"Mensagem %f \" % n)"
   ]
  },
  {
   "cell_type": "code",
   "execution_count": null,
   "id": "2f15c73e",
   "metadata": {},
   "outputs": [],
   "source": []
  }
 ],
 "metadata": {
  "kernelspec": {
   "display_name": "Python 3 (ipykernel)",
   "language": "python",
   "name": "python3"
  },
  "language_info": {
   "codemirror_mode": {
    "name": "ipython",
    "version": 3
   },
   "file_extension": ".py",
   "mimetype": "text/x-python",
   "name": "python",
   "nbconvert_exporter": "python",
   "pygments_lexer": "ipython3",
   "version": "3.10.5"
  }
 },
 "nbformat": 4,
 "nbformat_minor": 5
}
